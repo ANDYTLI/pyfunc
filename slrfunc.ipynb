{
 "cells": [
  {
   "cell_type": "code",
   "execution_count": 1,
   "metadata": {
    "collapsed": false
   },
   "outputs": [],
   "source": [
    "def slrfunc(x,y):\n",
    "    #Simple Linear Regression\n",
    "    import pandas as pd\n",
    "    X = pd.DataFrame(x)\n",
    "    Y = pd.DataFrame(y)\n",
    "        \n",
    "    from sklearn.linear_model import LinearRegression\n",
    "    model = LinearRegression()\n",
    "    model.fit(X,Y)\n",
    "    \n",
    "    Y2 = model.predict(X)\n",
    " \n",
    "    import matplotlib.pyplot as plt\n",
    "    plt.figure(figsize=(3,3))\n",
    "    plt.plot(X,Y,'k.')\n",
    "    plt.plot(X,Y2,'g-')\n",
    "    plt.show()\n",
    "    \n",
    "    model = print('Model: y = ', round(float(model.intercept_),2) , '+', round(float(model.coef_),2), 'x')\n",
    "    return model"
   ]
  },
  {
   "cell_type": "code",
   "execution_count": 2,
   "metadata": {
    "collapsed": false
   },
   "outputs": [
    {
     "data": {
      "image/png": "[encoded data removed]",
      "text/plain": [
       "<matplotlib.figure.Figure at 0x8367b00>"
      ]
     },
     "metadata": {},
     "output_type": "display_data"
    },
    {
     "name": "stdout",
     "output_type": "stream",
     "text": [
      "Model: y =  5.14 + 1.53 x\n"
     ]
    }
   ],
   "source": [
    "slrfunc([2, 7, 9, 13, 19, 32],[7, 10, 12, 32, 50, 45])"
   ]
  }
 ],
 "metadata": {
  "kernelspec": {
   "display_name": "Python 3",
   "language": "python",
   "name": "python3"
  },
  "language_info": {
   "codemirror_mode": {
    "name": "ipython",
    "version": 3
   },
   "file_extension": ".py",
   "mimetype": "text/x-python",
   "name": "python",
   "nbconvert_exporter": "python",
   "pygments_lexer": "ipython3",
   "version": "3.6.0"
  }
 },
 "nbformat": 4,
 "nbformat_minor": 2
}
