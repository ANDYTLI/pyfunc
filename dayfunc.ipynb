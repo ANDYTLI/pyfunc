{
 "cells": [
  {
   "cell_type": "markdown",
   "metadata": {},
   "source": [
    "# Function: "
   ]
  },
  {
   "cell_type": "code",
   "execution_count": 1,
   "metadata": {
    "collapsed": false
   },
   "outputs": [
    {
     "data": {
      "text/plain": [
       "('2017-02-04',\n",
       " '2017-03-01',\n",
       " '2017-03-31',\n",
       " 'Saturday',\n",
       " 'Wednesday',\n",
       " 'Friday',\n",
       " datetime.datetime(2017, 3, 1, 0, 0))"
      ]
     },
     "execution_count": 1,
     "metadata": {},
     "output_type": "execute_result"
    }
   ],
   "source": [
    "import datetime\n",
    "\n",
    "def dayfunc(any_day, WhichMonth):\n",
    "    # Current: WhichMonth =0, next 1, last -1， any_day as datetime.datetime.strptime('2017-02-04','%Y-%m-%d')\n",
    "    yyyymmdd = any_day.strftime('%Y-%m-%d')\n",
    "    mon = any_day.month\n",
    "    next_month = any_day.replace(month = mon + WhichMonth, day=28) + datetime.timedelta(days=4)   \n",
    "    last_day_of_month0 = next_month - datetime.timedelta(days=next_month.day)\n",
    "    first_day_of_month0 = last_day_of_month0.replace(day=1)\n",
    "    \n",
    "    last_day_of_month = last_day_of_month0.strftime('%Y-%m-%d')\n",
    "    first_day_of_month = first_day_of_month0.strftime('%Y-%m-%d')\n",
    "    \n",
    "    days = [\"Monday\",\"Tuesday\",\"Wednesday\",\"Thursday\",\"Friday\",\"Saturday\",\"Sunday\"]\n",
    "    any_day_weekday = days[any_day.weekday()]\n",
    "    first_day_weekday = days[first_day_of_month0.weekday()]\n",
    "    last_day_weekday = days[last_day_of_month0.weekday()]\n",
    "    \n",
    "    \n",
    "    return yyyymmdd, first_day_of_month, last_day_of_month, any_day_weekday, first_day_weekday, last_day_weekday, first_day_of_month0\n",
    "\n",
    "dayfunc(datetime.datetime.strptime('2017-02-04','%Y-%m-%d'),1)"
   ]
  },
  {
   "cell_type": "markdown",
   "metadata": {},
   "source": [
    "# Year"
   ]
  },
  {
   "cell_type": "code",
   "execution_count": 2,
   "metadata": {
    "collapsed": false
   },
   "outputs": [
    {
     "data": {
      "text/plain": [
       "2017"
      ]
     },
     "execution_count": 2,
     "metadata": {},
     "output_type": "execute_result"
    }
   ],
   "source": [
    "dayfunc(datetime.datetime.strptime('2017-02-04','%Y-%m-%d'),1)[6].year"
   ]
  },
  {
   "cell_type": "markdown",
   "metadata": {},
   "source": [
    "# Month"
   ]
  },
  {
   "cell_type": "code",
   "execution_count": 3,
   "metadata": {
    "collapsed": false
   },
   "outputs": [
    {
     "data": {
      "text/plain": [
       "3"
      ]
     },
     "execution_count": 3,
     "metadata": {},
     "output_type": "execute_result"
    }
   ],
   "source": [
    "dayfunc(datetime.datetime.strptime('2017-02-04','%Y-%m-%d'),1)[6].month"
   ]
  },
  {
   "cell_type": "code",
   "execution_count": 4,
   "metadata": {
    "collapsed": false
   },
   "outputs": [
    {
     "data": {
      "text/plain": [
       "'Mar'"
      ]
     },
     "execution_count": 4,
     "metadata": {},
     "output_type": "execute_result"
    }
   ],
   "source": [
    "dayfunc(datetime.datetime.strptime('2017-02-04','%Y-%m-%d'),1)[6].strftime('%b')"
   ]
  },
  {
   "cell_type": "code",
   "execution_count": 5,
   "metadata": {
    "collapsed": false
   },
   "outputs": [
    {
     "data": {
      "text/plain": [
       "'March'"
      ]
     },
     "execution_count": 5,
     "metadata": {},
     "output_type": "execute_result"
    }
   ],
   "source": [
    "dayfunc(datetime.datetime.strptime('2017-02-04','%Y-%m-%d'),1)[6].strftime('%B')"
   ]
  },
  {
   "cell_type": "code",
   "execution_count": 6,
   "metadata": {
    "collapsed": false
   },
   "outputs": [
    {
     "data": {
      "text/plain": [
       "'2017-03'"
      ]
     },
     "execution_count": 6,
     "metadata": {},
     "output_type": "execute_result"
    }
   ],
   "source": [
    "dayfunc(datetime.datetime.strptime('2017-02-04','%Y-%m-%d'),1)[6].strftime('%Y-%m')"
   ]
  },
  {
   "cell_type": "markdown",
   "metadata": {},
   "source": [
    "# Week"
   ]
  },
  {
   "cell_type": "code",
   "execution_count": 7,
   "metadata": {
    "collapsed": false
   },
   "outputs": [
    {
     "data": {
      "text/plain": [
       "2"
      ]
     },
     "execution_count": 7,
     "metadata": {},
     "output_type": "execute_result"
    }
   ],
   "source": [
    "dayfunc(datetime.datetime.strptime('2017-02-04','%Y-%m-%d'),1)[6].weekday()"
   ]
  },
  {
   "cell_type": "code",
   "execution_count": 8,
   "metadata": {
    "collapsed": false
   },
   "outputs": [
    {
     "data": {
      "text/plain": [
       "'3'"
      ]
     },
     "execution_count": 8,
     "metadata": {},
     "output_type": "execute_result"
    }
   ],
   "source": [
    "dayfunc(datetime.datetime.strptime('2017-02-04','%Y-%m-%d'),1)[6].strftime('%w')"
   ]
  },
  {
   "cell_type": "code",
   "execution_count": 9,
   "metadata": {
    "collapsed": false
   },
   "outputs": [
    {
     "data": {
      "text/plain": [
       "'09'"
      ]
     },
     "execution_count": 9,
     "metadata": {},
     "output_type": "execute_result"
    }
   ],
   "source": [
    "dayfunc(datetime.datetime.strptime('2017-02-04','%Y-%m-%d'),1)[6].strftime('%W')"
   ]
  },
  {
   "cell_type": "code",
   "execution_count": 10,
   "metadata": {
    "collapsed": false
   },
   "outputs": [
    {
     "data": {
      "text/plain": [
       "3"
      ]
     },
     "execution_count": 10,
     "metadata": {},
     "output_type": "execute_result"
    }
   ],
   "source": [
    "dayfunc(datetime.datetime.strptime('2017-02-04','%Y-%m-%d'),1)[6].isoweekday()"
   ]
  },
  {
   "cell_type": "code",
   "execution_count": 11,
   "metadata": {
    "collapsed": false
   },
   "outputs": [
    {
     "data": {
      "text/plain": [
       "'Wednesday'"
      ]
     },
     "execution_count": 11,
     "metadata": {},
     "output_type": "execute_result"
    }
   ],
   "source": [
    "tags = { '1' : 'Monday' ,'2' : 'Tuesday' ,'3' : 'Wednesday' ,'4' : 'Thursday' ,'5' : 'Friday' ,'6' : 'Saturday' ,'7' : 'Sunday' }\n",
    "tags[str(dayfunc(datetime.datetime.strptime('2017-02-04','%Y-%m-%d'),1)[6].isoweekday())]"
   ]
  }
 ],
 "metadata": {
  "kernelspec": {
   "display_name": "Python 3",
   "language": "python",
   "name": "python3"
  },
  "language_info": {
   "codemirror_mode": {
    "name": "ipython",
    "version": 3
   },
   "file_extension": ".py",
   "mimetype": "text/x-python",
   "name": "python",
   "nbconvert_exporter": "python",
   "pygments_lexer": "ipython3",
   "version": "3.6.0"
  }
 },
 "nbformat": 4,
 "nbformat_minor": 2
}
